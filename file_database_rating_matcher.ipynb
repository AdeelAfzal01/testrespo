{
 "cells": [
  {
   "cell_type": "code",
   "execution_count": 1,
   "metadata": {},
   "outputs": [],
   "source": [
    "import pandas as pd"
   ]
  },
  {
   "cell_type": "code",
   "execution_count": 3,
   "metadata": {},
   "outputs": [],
   "source": [
    "data_db = pd.read_json(\"ProductDataCatalogue 08=07-2021.json\")"
   ]
  },
  {
   "cell_type": "code",
   "execution_count": 56,
   "metadata": {},
   "outputs": [],
   "source": [
    "data_file = pd.read_json(\"jf_bot_rated.json\")"
   ]
  },
  {
   "cell_type": "code",
   "execution_count": 4,
   "metadata": {},
   "outputs": [
    {
     "data": {
      "text/html": [
       "<div>\n",
       "<style scoped>\n",
       "    .dataframe tbody tr th:only-of-type {\n",
       "        vertical-align: middle;\n",
       "    }\n",
       "\n",
       "    .dataframe tbody tr th {\n",
       "        vertical-align: top;\n",
       "    }\n",
       "\n",
       "    .dataframe thead th {\n",
       "        text-align: right;\n",
       "    }\n",
       "</style>\n",
       "<table border=\"1\" class=\"dataframe\">\n",
       "  <thead>\n",
       "    <tr style=\"text-align: right;\">\n",
       "      <th></th>\n",
       "      <th>_id</th>\n",
       "      <th>data</th>\n",
       "      <th>info</th>\n",
       "      <th>request</th>\n",
       "      <th>__v</th>\n",
       "      <th>rating</th>\n",
       "    </tr>\n",
       "  </thead>\n",
       "  <tbody>\n",
       "    <tr>\n",
       "      <th>0</th>\n",
       "      <td>{'$oid': '608fc9d76055a9d5ce70d2cb'}</td>\n",
       "      <td>{'images': [{'xpath': '/html[1]/body[1]/div[3]...</td>\n",
       "      <td>{'verifiedBy': ['MPN']}</td>\n",
       "      <td>{'domain': '.com', 'requestId': '10', 'website...</td>\n",
       "      <td>0</td>\n",
       "      <td>5.98</td>\n",
       "    </tr>\n",
       "    <tr>\n",
       "      <th>1</th>\n",
       "      <td>{'$oid': '608fc9d76055a9d5ce70d2ce'}</td>\n",
       "      <td>{'images': [{'width': 552, 'naturalHeight': 44...</td>\n",
       "      <td>{'verifiedBy': []}</td>\n",
       "      <td>{'domain': '.com', 'requestId': '10', 'website...</td>\n",
       "      <td>0</td>\n",
       "      <td>4.61</td>\n",
       "    </tr>\n",
       "    <tr>\n",
       "      <th>2</th>\n",
       "      <td>{'$oid': '608fc9d76055a9d5ce70d2cd'}</td>\n",
       "      <td>{'images': [{'xpath': '/html[1]/body[1]/div[1]...</td>\n",
       "      <td>{'verifiedBy': []}</td>\n",
       "      <td>{'domain': '.com', 'requestId': '10', 'website...</td>\n",
       "      <td>0</td>\n",
       "      <td>0.00</td>\n",
       "    </tr>\n",
       "    <tr>\n",
       "      <th>3</th>\n",
       "      <td>{'$oid': '608fc9d76055a9d5ce70d2cc'}</td>\n",
       "      <td>{'images': [{'xpath': '/html[1]/body[1]/div[3]...</td>\n",
       "      <td>{'verifiedBy': ['MPN']}</td>\n",
       "      <td>{'domain': '.com', 'requestId': '10', 'website...</td>\n",
       "      <td>0</td>\n",
       "      <td>5.98</td>\n",
       "    </tr>\n",
       "    <tr>\n",
       "      <th>4</th>\n",
       "      <td>{'$oid': '608fc9d76055a9d5ce70d2d0'}</td>\n",
       "      <td>{'images': [{'width': 618, 'naturalHeight': 60...</td>\n",
       "      <td>{'verifiedBy': []}</td>\n",
       "      <td>{'domain': '.com', 'requestId': '10', 'website...</td>\n",
       "      <td>0</td>\n",
       "      <td>-1.00</td>\n",
       "    </tr>\n",
       "  </tbody>\n",
       "</table>\n",
       "</div>"
      ],
      "text/plain": [
       "                                    _id  \\\n",
       "0  {'$oid': '608fc9d76055a9d5ce70d2cb'}   \n",
       "1  {'$oid': '608fc9d76055a9d5ce70d2ce'}   \n",
       "2  {'$oid': '608fc9d76055a9d5ce70d2cd'}   \n",
       "3  {'$oid': '608fc9d76055a9d5ce70d2cc'}   \n",
       "4  {'$oid': '608fc9d76055a9d5ce70d2d0'}   \n",
       "\n",
       "                                                data                     info  \\\n",
       "0  {'images': [{'xpath': '/html[1]/body[1]/div[3]...  {'verifiedBy': ['MPN']}   \n",
       "1  {'images': [{'width': 552, 'naturalHeight': 44...       {'verifiedBy': []}   \n",
       "2  {'images': [{'xpath': '/html[1]/body[1]/div[1]...       {'verifiedBy': []}   \n",
       "3  {'images': [{'xpath': '/html[1]/body[1]/div[3]...  {'verifiedBy': ['MPN']}   \n",
       "4  {'images': [{'width': 618, 'naturalHeight': 60...       {'verifiedBy': []}   \n",
       "\n",
       "                                             request  __v  rating  \n",
       "0  {'domain': '.com', 'requestId': '10', 'website...    0    5.98  \n",
       "1  {'domain': '.com', 'requestId': '10', 'website...    0    4.61  \n",
       "2  {'domain': '.com', 'requestId': '10', 'website...    0    0.00  \n",
       "3  {'domain': '.com', 'requestId': '10', 'website...    0    5.98  \n",
       "4  {'domain': '.com', 'requestId': '10', 'website...    0   -1.00  "
      ]
     },
     "execution_count": 4,
     "metadata": {},
     "output_type": "execute_result"
    }
   ],
   "source": [
    "data_db.head()"
   ]
  },
  {
   "cell_type": "code",
   "execution_count": 5,
   "metadata": {},
   "outputs": [
    {
     "data": {
      "text/html": [
       "<div>\n",
       "<style scoped>\n",
       "    .dataframe tbody tr th:only-of-type {\n",
       "        vertical-align: middle;\n",
       "    }\n",
       "\n",
       "    .dataframe tbody tr th {\n",
       "        vertical-align: top;\n",
       "    }\n",
       "\n",
       "    .dataframe thead th {\n",
       "        text-align: right;\n",
       "    }\n",
       "</style>\n",
       "<table border=\"1\" class=\"dataframe\">\n",
       "  <thead>\n",
       "    <tr style=\"text-align: right;\">\n",
       "      <th></th>\n",
       "      <th>result</th>\n",
       "      <th>status</th>\n",
       "    </tr>\n",
       "  </thead>\n",
       "  <tbody>\n",
       "    <tr>\n",
       "      <th>0</th>\n",
       "      <td>{'asyncRequestId': 'b26e2b40-d23b-11eb-9307-cb...</td>\n",
       "      <td>success</td>\n",
       "    </tr>\n",
       "    <tr>\n",
       "      <th>1</th>\n",
       "      <td>{'asyncRequestId': 'b26e2b40-d23b-11eb-9307-cb...</td>\n",
       "      <td>success</td>\n",
       "    </tr>\n",
       "    <tr>\n",
       "      <th>2</th>\n",
       "      <td>{'asyncRequestId': 'b26e2b40-d23b-11eb-9307-cb...</td>\n",
       "      <td>success</td>\n",
       "    </tr>\n",
       "    <tr>\n",
       "      <th>3</th>\n",
       "      <td>{'asyncRequestId': 'b26e2b40-d23b-11eb-9307-cb...</td>\n",
       "      <td>success</td>\n",
       "    </tr>\n",
       "    <tr>\n",
       "      <th>4</th>\n",
       "      <td>{'asyncRequestId': 'b26e2b40-d23b-11eb-9307-cb...</td>\n",
       "      <td>success</td>\n",
       "    </tr>\n",
       "  </tbody>\n",
       "</table>\n",
       "</div>"
      ],
      "text/plain": [
       "                                              result   status\n",
       "0  {'asyncRequestId': 'b26e2b40-d23b-11eb-9307-cb...  success\n",
       "1  {'asyncRequestId': 'b26e2b40-d23b-11eb-9307-cb...  success\n",
       "2  {'asyncRequestId': 'b26e2b40-d23b-11eb-9307-cb...  success\n",
       "3  {'asyncRequestId': 'b26e2b40-d23b-11eb-9307-cb...  success\n",
       "4  {'asyncRequestId': 'b26e2b40-d23b-11eb-9307-cb...  success"
      ]
     },
     "execution_count": 5,
     "metadata": {},
     "output_type": "execute_result"
    }
   ],
   "source": [
    "data_file.head()"
   ]
  },
  {
   "cell_type": "code",
   "execution_count": 11,
   "metadata": {},
   "outputs": [
    {
     "data": {
      "text/plain": [
       "5672"
      ]
     },
     "execution_count": 11,
     "metadata": {},
     "output_type": "execute_result"
    }
   ],
   "source": [
    "len(data_db['request'].value_counts())"
   ]
  },
  {
   "cell_type": "code",
   "execution_count": 36,
   "metadata": {},
   "outputs": [
    {
     "data": {
      "text/plain": [
       "0    {'domain': '.com', 'requestId': '10', 'website...\n",
       "1    {'domain': '.com', 'requestId': '10', 'website...\n",
       "2    {'domain': '.com', 'requestId': '10', 'website...\n",
       "3    {'domain': '.com', 'requestId': '10', 'website...\n",
       "4    {'domain': '.com', 'requestId': '10', 'website...\n",
       "5    {'domain': '.com', 'requestId': '10', 'website...\n",
       "6    {'domain': '.com', 'requestId': '6', 'websites...\n",
       "7    {'domain': '.com', 'requestId': '6', 'websites...\n",
       "8    {'domain': '.com', 'requestId': '6', 'websites...\n",
       "9    {'domain': '.com', 'requestId': '6', 'websites...\n",
       "Name: request, dtype: object"
      ]
     },
     "execution_count": 36,
     "metadata": {},
     "output_type": "execute_result"
    }
   ],
   "source": [
    "print (data_db['request'][:10], data_db['rating'][:25])"
   ]
  },
  {
   "cell_type": "code",
   "execution_count": 51,
   "metadata": {},
   "outputs": [
    {
     "data": {
      "text/plain": [
       "5672"
      ]
     },
     "execution_count": 51,
     "metadata": {},
     "output_type": "execute_result"
    }
   ],
   "source": [
    "len(db_requests)"
   ]
  },
  {
   "cell_type": "code",
   "execution_count": 50,
   "metadata": {},
   "outputs": [
    {
     "data": {
      "text/plain": [
       "5672"
      ]
     },
     "execution_count": 50,
     "metadata": {},
     "output_type": "execute_result"
    }
   ],
   "source": [
    "len(db_ratings)"
   ]
  },
  {
   "cell_type": "code",
   "execution_count": 52,
   "metadata": {},
   "outputs": [
    {
     "data": {
      "text/plain": [
       "[{'domain': '.com',\n",
       "  'requestId': '10',\n",
       "  'websites': [],\n",
       "  'brand': 'ADTRAN INC',\n",
       "  'mpn': '4186002L2'},\n",
       " {'domain': '.com',\n",
       "  'requestId': '6',\n",
       "  'websites': [],\n",
       "  'brand': 'ADTRAN INC',\n",
       "  'mpn': '1180408L1'},\n",
       " {'domain': '.com',\n",
       "  'requestId': '2',\n",
       "  'websites': [],\n",
       "  'brand': 'ADA I STAGGERS',\n",
       "  'mpn': '02-0140-01'},\n",
       " {'domain': '.com',\n",
       "  'requestId': '7',\n",
       "  'websites': [],\n",
       "  'brand': 'ADTRAN INC',\n",
       "  'mpn': '1184561PG3'},\n",
       " {'domain': '.com',\n",
       "  'requestId': '12',\n",
       "  'websites': [],\n",
       "  'brand': 'ADTRAN INC',\n",
       "  'mpn': '4203376L1-AC'},\n",
       " {'domain': '.com',\n",
       "  'requestId': '11',\n",
       "  'websites': [],\n",
       "  'brand': 'ADTRAN INC',\n",
       "  'mpn': '4200624L1#ATM'},\n",
       " {'domain': '.com',\n",
       "  'requestId': '14',\n",
       "  'websites': [],\n",
       "  'brand': 'ADTRAN INC',\n",
       "  'mpn': '4213640L1#ATM'},\n",
       " {'domain': '.com',\n",
       "  'requestId': '21',\n",
       "  'websites': [],\n",
       "  'brand': 'ADVA OPTICAL NETWORKING',\n",
       "  'mpn': '63708420'},\n",
       " {'domain': '.com',\n",
       "  'requestId': '13',\n",
       "  'websites': [],\n",
       "  'brand': 'ADTRAN INC',\n",
       "  'mpn': '4203612L1#ATM'},\n",
       " {'domain': '.com',\n",
       "  'requestId': '8',\n",
       "  'websites': [],\n",
       "  'brand': 'ADTRAN INC',\n",
       "  'mpn': '1186001L1'}]"
      ]
     },
     "execution_count": 52,
     "metadata": {},
     "output_type": "execute_result"
    }
   ],
   "source": [
    "db_requests[:10]"
   ]
  },
  {
   "cell_type": "code",
   "execution_count": 48,
   "metadata": {},
   "outputs": [],
   "source": [
    "db_requests = []\n",
    "db_ratings = []\n",
    "for req, rat in zip(data_db['request'], data_db['rating']):\n",
    "    \n",
    "    if req not in db_requests:\n",
    "        \n",
    "        db_requests.append(req)\n",
    "        db_ratings.append(rat)\n",
    "        \n",
    "    elif req in db_requests:\n",
    "        \n",
    "        ind = 0\n",
    "        \n",
    "        while ind < len(db_requests):\n",
    "            \n",
    "            if req == db_requests[ind] and rat > db_ratings[ind]:\n",
    "                \n",
    "                db_ratings[ind] = rat\n",
    "            \n",
    "            ind += 1\n",
    "    \n",
    "    "
   ]
  },
  {
   "cell_type": "code",
   "execution_count": 54,
   "metadata": {},
   "outputs": [
    {
     "data": {
      "text/plain": [
       "{'brand': '3M',\n",
       " 'domain': '.com',\n",
       " 'mpn': '98040056453',\n",
       " 'requestId': 3,\n",
       " 'title': '3M 98040056453 FIP FIRE BARRIER RATED FOAM, FIP 1-STEP, 12.85 FL OZ',\n",
       " 'websites': []}"
      ]
     },
     "execution_count": 54,
     "metadata": {},
     "output_type": "execute_result"
    }
   ],
   "source": [
    "comp_products[0]['request']"
   ]
  },
  {
   "cell_type": "code",
   "execution_count": 55,
   "metadata": {},
   "outputs": [
    {
     "data": {
      "text/plain": [
       "{'domain': '.com',\n",
       " 'requestId': '10',\n",
       " 'websites': [],\n",
       " 'brand': 'ADTRAN INC',\n",
       " 'mpn': '4186002L2'}"
      ]
     },
     "execution_count": 55,
     "metadata": {},
     "output_type": "execute_result"
    }
   ],
   "source": [
    "db_requests[0]"
   ]
  },
  {
   "cell_type": "code",
   "execution_count": 19,
   "metadata": {},
   "outputs": [],
   "source": [
    "comp_products = []\n",
    "for response in data_file['result']:\n",
    "    \n",
    "    comp_products.append(response)"
   ]
  },
  {
   "cell_type": "code",
   "execution_count": 66,
   "metadata": {},
   "outputs": [],
   "source": [
    "file_ratings = []\n",
    "file_requests = []\n",
    "for comp_rated_prod in comp_products:\n",
    "    \n",
    "    maximum = -100\n",
    "\n",
    "    index = 0 \n",
    " \n",
    "    for data in comp_rated_prod['results']:\n",
    "\n",
    "        #print (data['data'].keys())\n",
    "\n",
    "        #print (\"{}   {}\".format(index, data['data']['rating']))\n",
    "\n",
    "        if data['data']['rating'] > maximum:\n",
    "\n",
    "\n",
    "\n",
    "            maximum = data['data']['rating']\n",
    "\n",
    "            maximum_index = index\n",
    "\n",
    "\n",
    "\n",
    "        index += 1\n",
    "    \n",
    "\n",
    "    file_ratings.append(maximum)\n",
    "    file_requests.append(comp_rated_prod['request'])\n",
    "    #temp = comp_rated_prod['results'][0]\n",
    "    #comp_rated_prod['results'][0] = comp_rated_prod['results'][maximum_index]\n",
    "    #comp_rated_prod['results'][maximum_index] = temp  \n",
    "\n",
    "    #while (1 < len(comp_rated_prod['results'])):\n",
    "\n",
    "     #   comp_rated_prod['results'].pop()\n",
    "    "
   ]
  },
  {
   "cell_type": "code",
   "execution_count": 59,
   "metadata": {},
   "outputs": [
    {
     "data": {
      "text/plain": [
       "283"
      ]
     },
     "execution_count": 59,
     "metadata": {},
     "output_type": "execute_result"
    }
   ],
   "source": [
    "len(file_ratings)"
   ]
  },
  {
   "cell_type": "code",
   "execution_count": 78,
   "metadata": {},
   "outputs": [
    {
     "data": {
      "text/plain": [
       "{'brand': '3M',\n",
       " 'domain': '.com',\n",
       " 'mpn': '98040056453',\n",
       " 'requestId': 3,\n",
       " 'title': '3M 98040056453 FIP FIRE BARRIER RATED FOAM, FIP 1-STEP, 12.85 FL OZ',\n",
       " 'websites': []}"
      ]
     },
     "execution_count": 78,
     "metadata": {},
     "output_type": "execute_result"
    }
   ],
   "source": [
    "file_requests[0]['brand']"
   ]
  },
  {
   "cell_type": "code",
   "execution_count": 79,
   "metadata": {},
   "outputs": [
    {
     "data": {
      "text/plain": [
       "'3M'"
      ]
     },
     "execution_count": 79,
     "metadata": {},
     "output_type": "execute_result"
    }
   ],
   "source": [
    "file_requests[0]['brand']"
   ]
  },
  {
   "cell_type": "code",
   "execution_count": 80,
   "metadata": {},
   "outputs": [
    {
     "data": {
      "text/plain": [
       "'98040056453'"
      ]
     },
     "execution_count": 80,
     "metadata": {},
     "output_type": "execute_result"
    }
   ],
   "source": [
    "file_requests[0]['mpn']"
   ]
  },
  {
   "cell_type": "code",
   "execution_count": 89,
   "metadata": {},
   "outputs": [
    {
     "name": "stdout",
     "output_type": "stream",
     "text": [
      "{'domain': '.com', 'requestId': '82', 'websites': [], 'mpn': '377-1942-ND'}\n",
      "{'domain': '.com', 'requestId': '67', 'websites': [], 'mpn': '22D02201SM050MX'}\n",
      "{'domain': '.com', 'requestId': '154', 'websites': [], 'mpn': 'ACX2200-AC'}\n",
      "{'domain': '.com', 'requestId': '281', 'websites': [], 'mpn': \"LMR400 CABLE 10'\"}\n",
      "{'domain': '.com', 'requestId': '111', 'websites': [], 'mpn': '600918150-1'}\n"
     ]
    }
   ],
   "source": [
    "for i in db_requests:\n",
    "    \n",
    "    try:\n",
    "        \n",
    "        i['brand']\n",
    "        i['mpn']\n",
    "\n",
    "    except:\n",
    "        \n",
    "        print (i)"
   ]
  },
  {
   "cell_type": "code",
   "execution_count": 88,
   "metadata": {},
   "outputs": [
    {
     "data": {
      "text/plain": [
       "{'domain': '.com',\n",
       " 'requestId': '10',\n",
       " 'websites': [],\n",
       " 'brand': 'ADTRAN INC',\n",
       " 'mpn': '4186002L2'}"
      ]
     },
     "execution_count": 88,
     "metadata": {},
     "output_type": "execute_result"
    }
   ],
   "source": [
    "db_requests[0]"
   ]
  },
  {
   "cell_type": "code",
   "execution_count": 67,
   "metadata": {},
   "outputs": [
    {
     "data": {
      "text/plain": [
       "283"
      ]
     },
     "execution_count": 67,
     "metadata": {},
     "output_type": "execute_result"
    }
   ],
   "source": [
    "len(file_requests)"
   ]
  },
  {
   "cell_type": "code",
   "execution_count": 93,
   "metadata": {},
   "outputs": [],
   "source": [
    "df_requests =  []\n",
    "df_f_ratings = []\n",
    "df_db_ratings = []\n",
    "df_match = []\n",
    "for f_req, f_rat in zip(file_requests, file_ratings):\n",
    "    \n",
    "    for db_req, db_rat in zip(db_requests, db_ratings):\n",
    "        \n",
    "        try:\n",
    "            \n",
    "        \n",
    "            if f_req['brand'] == db_req['brand'] and f_req['mpn'] == db_req['mpn']:\n",
    "\n",
    "                df_requests.append(f_req)\n",
    "                df_f_ratings.append(f_rat)\n",
    "                df_db_ratings.append(db_rat)\n",
    "\n",
    "                if f_rat == db_rat:\n",
    "\n",
    "                    df_match.append('Yes')\n",
    "\n",
    "                else:\n",
    "\n",
    "                    df_match.append('No')\n",
    "                    \n",
    "                break\n",
    "                    \n",
    "        except:\n",
    "            \n",
    "            pass\n",
    "\n",
    "            \n",
    "        "
   ]
  },
  {
   "cell_type": "code",
   "execution_count": 96,
   "metadata": {},
   "outputs": [],
   "source": [
    "output_df = pd.DataFrame({'request': df_requests,\n",
    "                        'max rating file': df_f_ratings,\n",
    "                         'max rating db': df_db_ratings,\n",
    "                         'match': df_match})\n",
    "\n"
   ]
  },
  {
   "cell_type": "code",
   "execution_count": 105,
   "metadata": {},
   "outputs": [],
   "source": [
    "output_df.to_csv(\"output.csv\")"
   ]
  },
  {
   "cell_type": "code",
   "execution_count": 103,
   "metadata": {},
   "outputs": [
    {
     "data": {
      "text/plain": [
       "Yes    283\n",
       "Name: match, dtype: int64"
      ]
     },
     "execution_count": 103,
     "metadata": {},
     "output_type": "execute_result"
    }
   ],
   "source": [
    "output_df.match.value_counts()"
   ]
  }
 ],
 "metadata": {
  "kernelspec": {
   "display_name": "Python 3",
   "language": "python",
   "name": "python3"
  },
  "language_info": {
   "codemirror_mode": {
    "name": "ipython",
    "version": 3
   },
   "file_extension": ".py",
   "mimetype": "text/x-python",
   "name": "python",
   "nbconvert_exporter": "python",
   "pygments_lexer": "ipython3",
   "version": "3.8.3"
  }
 },
 "nbformat": 4,
 "nbformat_minor": 4
}
